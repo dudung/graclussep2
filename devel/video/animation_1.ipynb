{
 "cells": [
  {
   "cell_type": "markdown",
   "id": "adfd1405-e36f-4db4-ac21-c47785d34931",
   "metadata": {},
   "source": [
    "url https://medium.com/p/a864bcd135c5"
   ]
  },
  {
   "cell_type": "code",
   "execution_count": 1,
   "id": "bc0dd0ad-581a-4c49-be39-3f52d5878afe",
   "metadata": {},
   "outputs": [
    {
     "name": "stdout",
     "output_type": "stream",
     "text": [
      "N = 300\n"
     ]
    },
    {
     "data": {
      "image/png": "[encoded data removed]",
      "text/plain": [
       "<Figure size 300x300 with 1 Axes>"
      ]
     },
     "metadata": {},
     "output_type": "display_data"
    }
   ],
   "source": [
    "import numpy as np\n",
    "import matplotlib.pyplot as plt\n",
    "import matplotlib.animation as animation\n",
    "\n",
    "tbeg = 0\n",
    "tend = 6\n",
    "dt = 0.02\n",
    "t = np.arange(tbeg, tend, dt)\n",
    "N = len(t)\n",
    "print('N =', N)\n",
    "\n",
    "T1 = 1\n",
    "omega1 = 2 * np.pi / T1\n",
    "r1 = 4\n",
    "x1 = r1 * np.cos(omega1 * t)\n",
    "y1 = r1 * np.sin(omega1 * t)\n",
    "R1 = 0.2\n",
    "\n",
    "T2 = 3\n",
    "omega2 = 2 * np.pi / T2\n",
    "r2 = 3\n",
    "x2 = r2 * np.cos(omega2 * t)\n",
    "y2 = r2 * np.sin(omega2 * t)\n",
    "R2 = 0.4\n",
    "\n",
    "fig = plt.figure(figsize=(3,3))\n",
    "ax = fig.gca()\n",
    "ax.set_aspect(1)\n",
    "plt.grid()\n",
    "plt.xlim(-5, 5)\n",
    "plt.ylim(-5, 5)\n",
    "\n",
    "c1 = plt.Circle((x1[0], y1[0]), R1, fc='none', ec='red', lw=1)\n",
    "ax.add_patch(c1)\n",
    "c2 = plt.Circle((x2[0], y2[0]), R2, fc='none', ec='green', lw=1)\n",
    "ax.add_patch(c2)\n",
    "\n",
    "ts = f't = {t[0]:.2f} s'\n",
    "tx = ax.text(-3.5, -3.5, ts)\n",
    "\n",
    "plt.show()\n",
    "\n",
    "def update(i):\n",
    "    c1.center = x1[i], y1[i]\n",
    "    c2.center = x2[i], y2[i]\n",
    "    ts = f't = {t[i]:.2f} s'\n",
    "    tx.set_text(ts)\n",
    "    return _\n",
    "\n",
    "ani = animation.FuncAnimation(fig=fig, func=update, frames=300)\n",
    "ani.save(filename=\"test.mp4\", writer=\"ffmpeg\", fps=50)"
   ]
  },
  {
   "cell_type": "code",
   "execution_count": 17,
   "id": "c44b92b5-be9f-4dff-9b7e-5009dcab96c8",
   "metadata": {},
   "outputs": [
    {
     "name": "stdout",
     "output_type": "stream",
     "text": [
      "N = 400\n"
     ]
    },
    {
     "data": {
      "image/png": "[encoded data removed]",
      "text/plain": [
       "<Figure size 300x300 with 1 Axes>"
      ]
     },
     "metadata": {},
     "output_type": "display_data"
    }
   ],
   "source": [
    "import numpy as np\n",
    "import matplotlib.pyplot as plt\n",
    "import matplotlib.animation as animation\n",
    "\n",
    "tbeg = 0\n",
    "tend = 8\n",
    "dt = 0.02\n",
    "t = np.arange(tbeg, tend, dt)\n",
    "N = len(t)\n",
    "print('N =', N)\n",
    "\n",
    "T1 = 4\n",
    "omega1 = 2 * np.pi / T1\n",
    "r1 = 4\n",
    "q1 = (np.pi / 6) * np.sin(omega1 * t + np.pi / 2)\n",
    "x1 = r1 * np.sin(q1)\n",
    "y1 = 2 - r1 * np.cos(q1)\n",
    "R1 = 0.4\n",
    "\n",
    "T2 = 2\n",
    "omega2 = 2 * np.pi / T2\n",
    "r2 = 2\n",
    "q2 = (np.pi / 4) * np.sin(omega2 * t + np.pi / 2)\n",
    "x2 = r2 * np.sin(q2)\n",
    "y2 = 2- r2 * np.cos(q2)\n",
    "R2 = 0.2\n",
    "\n",
    "fig = plt.figure(figsize=(3,3))\n",
    "ax = fig.gca()\n",
    "ax.set_aspect(1)\n",
    "plt.grid()\n",
    "plt.xlim(-5, 5)\n",
    "plt.ylim(-5, 5)\n",
    "\n",
    "c1 = plt.Circle((x1[0], y1[0]), R1, fc='none', ec='red', lw=1)\n",
    "ax.add_patch(c1)\n",
    "c2 = plt.Circle((x2[0], y2[0]), R2, fc='none', ec='green', lw=1)\n",
    "ax.add_patch(c2)\n",
    "\n",
    "ts = f't = {t[0]:.2f} s'\n",
    "tx = ax.text(-3.5, -3.5, ts)\n",
    "\n",
    "plt.show()\n",
    "\n",
    "def update(i):\n",
    "    c1.center = x1[i], y1[i]\n",
    "    c2.center = x2[i], y2[i]\n",
    "    ts = f't = {t[i]:.2f} s'\n",
    "    tx.set_text(ts)\n",
    "    return _\n",
    "\n",
    "ani = animation.FuncAnimation(fig=fig, func=update, frames=400)\n",
    "ani.save(filename=\"test2.mp4\", writer=\"ffmpeg\", fps=50)"
   ]
  },
  {
   "cell_type": "code",
   "execution_count": null,
   "id": "2bd30ffc-08db-4374-a11c-44cd6723d452",
   "metadata": {},
   "outputs": [],
   "source": []
  }
 ],
 "metadata": {
  "kernelspec": {
   "display_name": "Python 3 (ipykernel)",
   "language": "python",
   "name": "python3"
  },
  "language_info": {
   "codemirror_mode": {
    "name": "ipython",
    "version": 3
   },
   "file_extension": ".py",
   "mimetype": "text/x-python",
   "name": "python",
   "nbconvert_exporter": "python",
   "pygments_lexer": "ipython3",
   "version": "3.12.3"
  }
 },
 "nbformat": 4,
 "nbformat_minor": 5
}
