{
 "cells": [
  {
   "cell_type": "code",
   "execution_count": 1,
   "id": "cca84766-1208-469d-a827-dec91b6872b1",
   "metadata": {},
   "outputs": [],
   "source": [
    "import numpy as np\n",
    "import matplotlib.pyplot as plt\n",
    "import matplotlib.animation as animation"
   ]
  },
  {
   "cell_type": "code",
   "execution_count": 2,
   "id": "c0905622-5f2d-473e-84b0-5f20d10913bf",
   "metadata": {},
   "outputs": [],
   "source": [
    "tbeg = 0\n",
    "tend = 3\n",
    "dt = 0.01\n",
    "t = np.arange(tbeg, tend, dt)"
   ]
  },
  {
   "cell_type": "code",
   "execution_count": 3,
   "id": "2f67afcf-31ec-48df-9891-80e0798f573e",
   "metadata": {},
   "outputs": [],
   "source": [
    "m1 = 0.2\n",
    "d1 = 1.0\n",
    "x10 = -2\n",
    "v10 = 1\n",
    "y10 = 0\n",
    "u10 = 0\n",
    "\n",
    "m2 = 0.1\n",
    "d2 = 0.5\n",
    "x20 = 2\n",
    "v20 = -2\n",
    "y20 = 0\n",
    "u20 = 0"
   ]
  },
  {
   "cell_type": "code",
   "execution_count": 7,
   "id": "6b904e57-eddf-477b-85fc-bb6f82453269",
   "metadata": {},
   "outputs": [
    {
     "data": {
      "image/png": "[encoded data removed]",
      "text/plain": [
       "<Figure size 300x300 with 1 Axes>"
      ]
     },
     "metadata": {},
     "output_type": "display_data"
    }
   ],
   "source": [
    "# without collision\n",
    "x1 = x10 + v10 * t\n",
    "y1 = y10 + u10 * t\n",
    "\n",
    "x2 = x20 + v20 * t\n",
    "y2 = y20 + u20 * t\n",
    "\n",
    "fig = plt.figure(figsize=(3,3))\n",
    "ax = fig.gca()\n",
    "ax.set_aspect(1)\n",
    "plt.grid()\n",
    "plt.xlim(-5, 5)\n",
    "plt.ylim(-5, 5)\n",
    "\n",
    "c1 = plt.Circle((x1[0], y1[0]), 0.5*d1, fc='none', ec='red', lw=1)\n",
    "ax.add_patch(c1)\n",
    "c2 = plt.Circle((x2[0], y2[0]), 0.5*d2, fc='none', ec='green', lw=1)\n",
    "ax.add_patch(c2)\n",
    "\n",
    "ts = f't = {t[0]:.2f} s'\n",
    "tx = ax.text(-3.5, -3.5, ts)\n",
    "\n",
    "plt.show()\n",
    "\n",
    "def update(i):\n",
    "    c1.center = x1[i], y1[i]\n",
    "    c2.center = x2[i], y2[i]\n",
    "    ts = f't = {t[i]:.2f} s'\n",
    "    tx.set_text(ts)\n",
    "    return _\n",
    "\n",
    "ani = animation.FuncAnimation(fig=fig, func=update, frames=300)\n",
    "ani.save(filename=\"test2a.mp4\", writer=\"ffmpeg\", fps=50)"
   ]
  },
  {
   "cell_type": "markdown",
   "id": "5cbd0c2b-3bac-444a-9eb6-b36998f1e2ba",
   "metadata": {},
   "source": [
    "<video src=\"test2a.mp4\" controls></video>"
   ]
  },
  {
   "cell_type": "markdown",
   "id": "b654d1d6-f5d2-4969-b1bd-e44311c942ad",
   "metadata": {},
   "source": [
    "url https://phys.libretexts.org/@go/page/18227\n",
    "\n",
    "$$\\tag{1}\n",
    "v_{1f} = \\left( \\frac{m_1 - m_2}{m_1 + m_2} \\right) v_{1i} + \\left( \\frac{2m_2}{m_1 + m_2} \\right) v_{2i}\n",
    "$$\n",
    "\n",
    "$$\\tag{2}\n",
    "v_{2f} = \\left( \\frac{2m_1}{m_1 + m_2} \\right) v_{1i} + \\left( \\frac{m_2 - m_1}{m_1 + m_2} \\right) v_{2i}\n",
    "$$"
   ]
  },
  {
   "cell_type": "code",
   "execution_count": 6,
   "id": "7d6eac7c-8679-4f3c-a5c9-baec6d52aeff",
   "metadata": {},
   "outputs": [
    {
     "data": {
      "image/png": "[encoded data removed]",
      "text/plain": [
       "<Figure size 300x300 with 1 Axes>"
      ]
     },
     "metadata": {},
     "output_type": "display_data"
    }
   ],
   "source": [
    "# without collision with iteration\n",
    "x1 = []\n",
    "y1 = []\n",
    "x2 = []\n",
    "y2 = []\n",
    "for i, tt in enumerate(t):\n",
    "    if i == 0:\n",
    "        x1.append(x10)\n",
    "        y1.append(y10)\n",
    "        x2.append(x20)\n",
    "        y2.append(y20)\n",
    "    else:\n",
    "        x1.append(x1[i-1] + v10 * dt)\n",
    "        y1.append(y1[i-1] + u10 * dt)\n",
    "        x2.append(x2[i-1] + v20 * dt)\n",
    "        y2.append(y2[i-1] + u20 * dt)\n",
    "\n",
    "fig = plt.figure(figsize=(3,3))\n",
    "ax = fig.gca()\n",
    "ax.set_aspect(1)\n",
    "plt.grid()\n",
    "plt.xlim(-5, 5)\n",
    "plt.ylim(-5, 5)\n",
    "\n",
    "c1 = plt.Circle((x1[0], y1[0]), 0.5*d1, fc='none', ec='red', lw=1)\n",
    "ax.add_patch(c1)\n",
    "c2 = plt.Circle((x2[0], y2[0]), 0.5*d2, fc='none', ec='green', lw=1)\n",
    "ax.add_patch(c2)\n",
    "\n",
    "ts = f't = {t[0]:.2f} s'\n",
    "tx = ax.text(-3.5, -3.5, ts)\n",
    "\n",
    "plt.show()\n",
    "\n",
    "def update(i):\n",
    "    c1.center = x1[i], y1[i]\n",
    "    c2.center = x2[i], y2[i]\n",
    "    ts = f't = {t[i]:.2f} s'\n",
    "    tx.set_text(ts)\n",
    "    return _\n",
    "\n",
    "ani = animation.FuncAnimation(fig=fig, func=update, frames=400)\n",
    "ani.save(filename=\"test2b.mp4\", writer=\"ffmpeg\", fps=50)"
   ]
  },
  {
   "cell_type": "code",
   "execution_count": null,
   "id": "c2747c77-b348-4889-aee6-74d19e8920ba",
   "metadata": {},
   "outputs": [],
   "source": []
  }
 ],
 "metadata": {
  "kernelspec": {
   "display_name": "Python 3 (ipykernel)",
   "language": "python",
   "name": "python3"
  },
  "language_info": {
   "codemirror_mode": {
    "name": "ipython",
    "version": 3
   },
   "file_extension": ".py",
   "mimetype": "text/x-python",
   "name": "python",
   "nbconvert_exporter": "python",
   "pygments_lexer": "ipython3",
   "version": "3.12.3"
  }
 },
 "nbformat": 4,
 "nbformat_minor": 5
}
