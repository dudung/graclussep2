{
 "cells": [
  {
   "cell_type": "code",
   "execution_count": 1,
   "id": "cca84766-1208-469d-a827-dec91b6872b1",
   "metadata": {},
   "outputs": [
    {
     "ename": "ModuleNotFoundError",
     "evalue": "No module named 'butiran'",
     "output_type": "error",
     "traceback": [
      "\u001b[1;31m----------------------------------------------------------------------\u001b[0m",
      "\u001b[1;31mModuleNotFoundError\u001b[0m                  Traceback (most recent call last)",
      "Cell \u001b[1;32mIn[1], line 5\u001b[0m\n\u001b[0;32m      2\u001b[0m \u001b[38;5;28;01mimport\u001b[39;00m \u001b[38;5;21;01mmatplotlib\u001b[39;00m\u001b[38;5;21;01m.\u001b[39;00m\u001b[38;5;21;01mpyplot\u001b[39;00m \u001b[38;5;28;01mas\u001b[39;00m \u001b[38;5;21;01mplt\u001b[39;00m\n\u001b[0;32m      3\u001b[0m \u001b[38;5;28;01mimport\u001b[39;00m \u001b[38;5;21;01mmatplotlib\u001b[39;00m\u001b[38;5;21;01m.\u001b[39;00m\u001b[38;5;21;01manimation\u001b[39;00m \u001b[38;5;28;01mas\u001b[39;00m \u001b[38;5;21;01manimation\u001b[39;00m\n\u001b[1;32m----> 5\u001b[0m \u001b[38;5;28;01mfrom\u001b[39;00m \u001b[38;5;21;01mbutiran\u001b[39;00m\u001b[38;5;21;01m.\u001b[39;00m\u001b[38;5;21;01mcolor2\u001b[39;00m \u001b[38;5;28;01mimport\u001b[39;00m Color2\n\u001b[0;32m      6\u001b[0m \u001b[38;5;28;01mfrom\u001b[39;00m \u001b[38;5;21;01mbutiran\u001b[39;00m\u001b[38;5;21;01m.\u001b[39;00m\u001b[38;5;21;01mmath\u001b[39;00m\u001b[38;5;21;01m.\u001b[39;00m\u001b[38;5;21;01mvect3\u001b[39;00m \u001b[38;5;28;01mimport\u001b[39;00m Vect3\n\u001b[0;32m      7\u001b[0m \u001b[38;5;28;01mfrom\u001b[39;00m \u001b[38;5;21;01mbutiran\u001b[39;00m\u001b[38;5;21;01m.\u001b[39;00m\u001b[38;5;21;01mgrain\u001b[39;00m \u001b[38;5;28;01mimport\u001b[39;00m Grain\n",
      "\u001b[1;31mModuleNotFoundError\u001b[0m: No module named 'butiran'"
     ]
    }
   ],
   "source": [
    "import numpy as np\n",
    "import matplotlib.pyplot as plt\n",
    "import matplotlib.animation as animation\n",
    "\n",
    "from butiran.color2 import Color2\n",
    "from butiran.math.vect3 import Vect3\n",
    "from butiran.grain import Grain\n",
    "from butiran.force.normal2 import Normal2\n",
    "import math"
   ]
  },
  {
   "cell_type": "code",
   "execution_count": 8,
   "id": "c0905622-5f2d-473e-84b0-5f20d10913bf",
   "metadata": {},
   "outputs": [],
   "source": [
    "tbeg = 0\n",
    "tend = 3\n",
    "dt = 0.01\n",
    "t = np.arange(tbeg, tend, dt)"
   ]
  },
  {
   "cell_type": "code",
   "execution_count": 9,
   "id": "2f67afcf-31ec-48df-9891-80e0798f573e",
   "metadata": {},
   "outputs": [],
   "source": [
    "m1 = 0.2\n",
    "d1 = 1.0\n",
    "x10 = -2\n",
    "v10 = 1\n",
    "y10 = 0\n",
    "u10 = 0\n",
    "\n",
    "m2 = 0.1\n",
    "d2 = 0.5\n",
    "x20 = 2\n",
    "v20 = -2\n",
    "y20 = 0\n",
    "u20 = 0\n",
    "\n",
    "# define normal force\n",
    "m1 = 2; R1 = 1\n",
    "m2 = 1; R2 = 1\n",
    "k = 1000; d = 0\n",
    "normal = Normal2(constant=k, damping=d)\n",
    "\n",
    "# define grain with initial position and velocity\n",
    "grain1 = Grain(id=\"0000\", m=m1, d=2*R1)\n",
    "grain1.r = Vect3(-3, 0, 0)\n",
    "grain1.v = Vect3(1, 0, 0)\n",
    "\n",
    "grain2 = Grain(id=\"0001\", m=m2, d=2*R2)\n",
    "grain2.r = Vect3(3, 0, 0)\n",
    "grain2.v = Vect3(-1, 0)\n",
    "\n",
    "import numpy as np\n",
    "\n",
    "# define iteration\n",
    "tbeg = 0\n",
    "tend = 4\n",
    "N = 5000\n",
    "dt = (tend - tbeg) / N\n",
    "\n",
    "# define lists\n",
    "data_t = []\n",
    "\n",
    "t0 = []\n",
    "x1 = []\n",
    "y1 = []\n",
    "x2 = []\n",
    "y2 = []\n",
    "\n",
    "\n",
    "# perform iteration\n",
    "print(\"Calculate position and velocity.\")\n",
    "for i in range(N + 1):\n",
    "  t = i * dt\n",
    "  \n",
    "  m1 = grain1.m; v1 = grain1.v; r1 = grain1.r\n",
    "  m2 = grain2.m; v2 = grain2.v; r2 = grain2.r\n",
    "  \n",
    "  t0.append(t)\n",
    "  x1.append(r1.x)\n",
    "  y1.append(r1.y)\n",
    "  x2.append(r2.x)\n",
    "  y2.append(r2.y)\n",
    "\n",
    "  fn12 = normal.force(grain1, grain2)\n",
    "  fn21 = normal.force(grain2, grain1)\n",
    "  \n",
    "  #print(fn12.x)\n",
    "\n",
    "  a1 = fn12 / m1; v1 += a1 * dt; r1 += v1 * dt\n",
    "  a2 = fn21 / m2; v2 += a2 * dt; r2 += v2 * dt\n",
    "   \n",
    "  grain1.v = v1; grain1.r = r1\n",
    "  grain2.v = v2; grain2.r = r2"
   ]
  },
  {
   "cell_type": "code",
   "execution_count": 10,
   "id": "6b904e57-eddf-477b-85fc-bb6f82453269",
   "metadata": {},
   "outputs": [
    {
     "data": {
      "image/png": "[encoded data removed]",
      "text/plain": [
       "<Figure size 300x300 with 1 Axes>"
      ]
     },
     "metadata": {},
     "output_type": "display_data"
    }
   ],
   "source": [
    "# without collision\n",
    "x1 = x10 + v10 * t\n",
    "y1 = y10 + u10 * t\n",
    "\n",
    "x2 = x20 + v20 * t\n",
    "y2 = y20 + u20 * t\n",
    "\n",
    "fig = plt.figure(figsize=(3,3))\n",
    "ax = fig.gca()\n",
    "ax.set_aspect(1)\n",
    "plt.grid()\n",
    "plt.xlim(-5, 5)\n",
    "plt.ylim(-5, 5)\n",
    "\n",
    "c1 = plt.Circle((x1[0], y1[0]), 0.5*d1, fc='none', ec='red', lw=1)\n",
    "ax.add_patch(c1)\n",
    "c2 = plt.Circle((x2[0], y2[0]), 0.5*d2, fc='none', ec='green', lw=1)\n",
    "ax.add_patch(c2)\n",
    "\n",
    "ts = f't = {t[0]:.2f} s'\n",
    "tx = ax.text(-3.5, -3.5, ts)\n",
    "\n",
    "plt.show()\n",
    "\n",
    "def update(i):\n",
    "    c1.center = x1[i], y1[i]\n",
    "    c2.center = x2[i], y2[i]\n",
    "    ts = f't = {t[i]:.2f} s'\n",
    "    tx.set_text(ts)\n",
    "    return _\n",
    "\n",
    "ani = animation.FuncAnimation(fig=fig, func=update, frames=300)\n",
    "ani.save(filename=\"test2a.mp4\", writer=\"ffmpeg\", fps=50)"
   ]
  },
  {
   "cell_type": "markdown",
   "id": "5cbd0c2b-3bac-444a-9eb6-b36998f1e2ba",
   "metadata": {},
   "source": [
    "<video src=\"test2a.mp4\" controls></video>"
   ]
  },
  {
   "cell_type": "code",
   "execution_count": 21,
   "id": "7d6eac7c-8679-4f3c-a5c9-baec6d52aeff",
   "metadata": {},
   "outputs": [
    {
     "data": {
      "image/png": "[encoded data removed]",
      "text/plain": [
       "<Figure size 300x300 with 1 Axes>"
      ]
     },
     "metadata": {},
     "output_type": "display_data"
    }
   ],
   "source": [
    "m1 = 0.2\n",
    "d1 = 1.0\n",
    "x10 = -2\n",
    "v10 = 1\n",
    "y10 = 0\n",
    "u10 = 0\n",
    "\n",
    "m2 = 0.1\n",
    "d2 = 0.5\n",
    "x20 = 2\n",
    "v20 = -2\n",
    "y20 = 0\n",
    "u20 = 0\n",
    "\n",
    "# without collision with iteration\n",
    "x1 = []\n",
    "y1 = []\n",
    "x2 = []\n",
    "y2 = []\n",
    "for i, tt in enumerate(t):\n",
    "    if i == 0:\n",
    "        x1.append(x10)\n",
    "        y1.append(y10)\n",
    "        x2.append(x20)\n",
    "        y2.append(y20)\n",
    "    else:\n",
    "        x1.append(x1[i-1] + v10 * dt)\n",
    "        y1.append(y1[i-1] + u10 * dt)\n",
    "        x2.append(x2[i-1] + v20 * dt)\n",
    "        y2.append(y2[i-1] + u20 * dt)\n",
    "\n",
    "fig = plt.figure(figsize=(3,3))\n",
    "ax = fig.gca()\n",
    "ax.set_aspect(1)\n",
    "plt.grid()\n",
    "plt.xlim(-5, 5)\n",
    "plt.ylim(-5, 5)\n",
    "\n",
    "c1 = plt.Circle((x1[0], y1[0]), 0.5*d1, fc='none', ec='red', lw=1)\n",
    "ax.add_patch(c1)\n",
    "c2 = plt.Circle((x2[0], y2[0]), 0.5*d2, fc='none', ec='green', lw=1)\n",
    "ax.add_patch(c2)\n",
    "\n",
    "ts = f't = {t[0]:.2f} s'\n",
    "tx = ax.text(-3.5, -3.5, ts)\n",
    "\n",
    "plt.show()\n",
    "\n",
    "def update(i):\n",
    "    c1.center = x1[i], y1[i]\n",
    "    c2.center = x2[i], y2[i]\n",
    "    ts = f't = {t[i]:.2f} s'\n",
    "    tx.set_text(ts)\n",
    "    return _\n",
    "\n",
    "ani = animation.FuncAnimation(fig=fig, func=update, frames=300)\n",
    "ani.save(filename=\"test2b.mp4\", writer=\"ffmpeg\", fps=50)"
   ]
  },
  {
   "cell_type": "markdown",
   "id": "b1ec5a9d-3891-4f77-becc-df451f31a88b",
   "metadata": {},
   "source": [
    "<video src=\"test2b.mp4\" controls></video>"
   ]
  },
  {
   "cell_type": "code",
   "execution_count": 22,
   "id": "7a02d98c-3b28-406c-95e2-3bec03c721d9",
   "metadata": {},
   "outputs": [
    {
     "name": "stdout",
     "output_type": "stream",
     "text": [
      "1 -2\n"
     ]
    }
   ],
   "source": [
    "print(v10, v20)"
   ]
  },
  {
   "cell_type": "markdown",
   "id": "b654d1d6-f5d2-4969-b1bd-e44311c942ad",
   "metadata": {},
   "source": [
    "url https://phys.libretexts.org/@go/page/18227\n",
    "\n",
    "$$\\tag{1}\n",
    "v_{1f} = \\left( \\frac{m_1 - m_2}{m_1 + m_2} \\right) v_{1i} + \\left( \\frac{2m_2}{m_1 + m_2} \\right) v_{2i}\n",
    "$$\n",
    "\n",
    "$$\\tag{2}\n",
    "v_{2f} = \\left( \\frac{2m_1}{m_1 + m_2} \\right) v_{1i} + \\left( \\frac{m_2 - m_1}{m_1 + m_2} \\right) v_{2i}\n",
    "$$"
   ]
  },
  {
   "cell_type": "code",
   "execution_count": 25,
   "id": "608b9320-ae21-40b5-a896-1a2e1a8ad42d",
   "metadata": {},
   "outputs": [
    {
     "data": {
      "image/png": "[encoded data removed]",
      "text/plain": [
       "<Figure size 300x300 with 1 Axes>"
      ]
     },
     "metadata": {},
     "output_type": "display_data"
    }
   ],
   "source": [
    "m1 = 1.0\n",
    "d1 = 0.5\n",
    "x10 = -2\n",
    "v10 = 1\n",
    "y10 = 0\n",
    "u10 = 0\n",
    "\n",
    "m2 = 1.0\n",
    "d2 = 0.5\n",
    "x20 = 2\n",
    "v20 = -5\n",
    "y20 = 0\n",
    "u20 = 0\n",
    "\n",
    "# with collision with iteration\n",
    "x1 = []\n",
    "y1 = []\n",
    "x2 = []\n",
    "y2 = []\n",
    "for i, tt in enumerate(t):\n",
    "    if i == 0:\n",
    "        x1.append(x10)\n",
    "        y1.append(y10)\n",
    "        x2.append(x20)\n",
    "        y2.append(y20)\n",
    "    else:\n",
    "        x1.append(x1[i-1] + v10 * dt)\n",
    "        y1.append(y1[i-1] + u10 * dt)\n",
    "        x2.append(x2[i-1] + v20 * dt)\n",
    "        y2.append(y2[i-1] + u20 * dt)\n",
    "\n",
    "    d = np.abs(x2[i] - x1[i]) < 0.5*(d1 + d2)\n",
    "    if d:\n",
    "        v10new = ((m1 - m2)/(m1 + m2)) * v10 + ((2 * m2)/(m1 + m2)) * v20 \n",
    "        v20new = ((m2 - m1)/(m1 + m2)) * v20 + ((2 * m1)/(m1 + m2)) * v10\n",
    "\n",
    "        v10 = v10new\n",
    "        v20 = v20new\n",
    "\n",
    "fig = plt.figure(figsize=(3,3))\n",
    "ax = fig.gca()\n",
    "ax.set_aspect(1)\n",
    "plt.grid()\n",
    "plt.xlim(-5, 5)\n",
    "plt.ylim(-5, 5)\n",
    "\n",
    "c1 = plt.Circle((x1[0], y1[0]), 0.5*d1, fc='none', ec='red', lw=1)\n",
    "ax.add_patch(c1)\n",
    "c2 = plt.Circle((x2[0], y2[0]), 0.5*d2, fc='none', ec='green', lw=1)\n",
    "ax.add_patch(c2)\n",
    "\n",
    "ts = f't = {t[0]:.2f} s'\n",
    "tx = ax.text(-3.5, -3.5, ts)\n",
    "\n",
    "plt.show()\n",
    "\n",
    "def update(i):\n",
    "    c1.center = x1[i], y1[i]\n",
    "    c2.center = x2[i], y2[i]\n",
    "    ts = f't = {t[i]:.2f} s'\n",
    "    tx.set_text(ts)\n",
    "    return _\n",
    "\n",
    "ani = animation.FuncAnimation(fig=fig, func=update, frames=300)\n",
    "ani.save(filename=\"test2c.mp4\", writer=\"ffmpeg\", fps=50)"
   ]
  },
  {
   "cell_type": "markdown",
   "id": "5a63d5cd-7600-41b9-acc4-56e04254f1b7",
   "metadata": {},
   "source": [
    "<video src=\"test2c.mp4\" controls></video>"
   ]
  },
  {
   "cell_type": "code",
   "execution_count": null,
   "id": "7def559b-7001-4bc6-b12c-2a9bb7a9ba54",
   "metadata": {},
   "outputs": [],
   "source": []
  }
 ],
 "metadata": {
  "kernelspec": {
   "display_name": "Python 3 (ipykernel)",
   "language": "python",
   "name": "python3"
  },
  "language_info": {
   "codemirror_mode": {
    "name": "ipython",
    "version": 3
   },
   "file_extension": ".py",
   "mimetype": "text/x-python",
   "name": "python",
   "nbconvert_exporter": "python",
   "pygments_lexer": "ipython3",
   "version": "3.12.3"
  }
 },
 "nbformat": 4,
 "nbformat_minor": 5
}
