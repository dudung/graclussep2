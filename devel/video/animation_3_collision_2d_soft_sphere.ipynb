{
 "cells": [
  {
   "cell_type": "code",
   "execution_count": 1,
   "id": "cca84766-1208-469d-a827-dec91b6872b1",
   "metadata": {},
   "outputs": [],
   "source": [
    "import numpy as np\n",
    "import matplotlib.pyplot as plt\n",
    "import matplotlib.animation as animation\n",
    "\n",
    "from butiran.math.vect3 import Vect3\n",
    "from butiran.entity.grain import Grain\n",
    "from butiran.force.normal2 import Normal2\n",
    "import math"
   ]
  },
  {
   "cell_type": "code",
   "execution_count": null,
   "id": "c0905622-5f2d-473e-84b0-5f20d10913bf",
   "metadata": {},
   "outputs": [],
   "source": [
    "tbeg = 0\n",
    "tend = 3\n",
    "dt = 0.01\n",
    "t = np.arange(tbeg, tend, dt)"
   ]
  },
  {
   "cell_type": "code",
   "execution_count": null,
   "id": "2d6fd2d3-f51a-4e67-aaa6-c6b2011eb979",
   "metadata": {},
   "outputs": [],
   "source": [
    "m1 = 0.2\n",
    "d1 = 1.0\n",
    "x10 = -2\n",
    "v10 = 1\n",
    "y10 = 0\n",
    "u10 = 0\n",
    "\n",
    "m2 = 0.1\n",
    "d2 = 0.5\n",
    "x20 = 2\n",
    "v20 = -2\n",
    "y20 = 0\n",
    "u20 = 0"
   ]
  },
  {
   "cell_type": "code",
   "execution_count": 19,
   "id": "2f67afcf-31ec-48df-9891-80e0798f573e",
   "metadata": {},
   "outputs": [
    {
     "name": "stdout",
     "output_type": "stream",
     "text": [
      "Calculate position and velocity.\n"
     ]
    }
   ],
   "source": [
    "# define normal force\n",
    "m1 = 2; R1 = 0.5\n",
    "m2 = 1; R2 = 1\n",
    "k = 1000; d = 0\n",
    "normal = Normal2(constant=k, damping=d)\n",
    "\n",
    "# define grain with initial position and velocity\n",
    "grain1 = Grain(id=\"0000\", m=m1, d=2*R1)\n",
    "grain1.r = Vect3(-3, -0.4, 0)\n",
    "grain1.v = Vect3(4, 0, 0)\n",
    "\n",
    "grain2 = Grain(id=\"0001\", m=m2, d=2*R2)\n",
    "grain2.r = Vect3(3, 0.4, 0)\n",
    "grain2.v = Vect3(-1, 0)\n",
    "\n",
    "# define iteration\n",
    "tbeg = 0\n",
    "tend = 4\n",
    "N = 200\n",
    "dt = (tend - tbeg) / N\n",
    "\n",
    "# define lists\n",
    "data_t = []\n",
    "\n",
    "t0 = []\n",
    "x1 = []\n",
    "y1 = []\n",
    "x2 = []\n",
    "y2 = []\n",
    "\n",
    "\n",
    "# perform iteration\n",
    "print(\"Calculate position and velocity.\")\n",
    "for i in range(N + 1):\n",
    "  t = i * dt\n",
    "  \n",
    "  m1 = grain1.m; v1 = grain1.v; r1 = grain1.r\n",
    "  m2 = grain2.m; v2 = grain2.v; r2 = grain2.r\n",
    "  \n",
    "  t0.append(t)\n",
    "  x1.append(r1.x)\n",
    "  y1.append(r1.y)\n",
    "  x2.append(r2.x)\n",
    "  y2.append(r2.y)\n",
    "\n",
    "  fn12 = normal.force(grain1, grain2)\n",
    "  fn21 = normal.force(grain2, grain1)\n",
    "  \n",
    "  #print(fn12.x)\n",
    "\n",
    "  a1 = fn12 / m1; v1 += a1 * dt; r1 += v1 * dt\n",
    "  a2 = fn21 / m2; v2 += a2 * dt; r2 += v2 * dt\n",
    "   \n",
    "  grain1.v = v1; grain1.r = r1\n",
    "  grain2.v = v2; grain2.r = r2"
   ]
  },
  {
   "cell_type": "code",
   "execution_count": 20,
   "id": "6b904e57-eddf-477b-85fc-bb6f82453269",
   "metadata": {},
   "outputs": [
    {
     "data": {
      "image/png": "[encoded data removed]",
      "text/plain": [
       "<Figure size 300x300 with 1 Axes>"
      ]
     },
     "metadata": {},
     "output_type": "display_data"
    }
   ],
   "source": [
    "fig = plt.figure(figsize=(3,3))\n",
    "ax = fig.gca()\n",
    "ax.set_aspect(1)\n",
    "plt.grid()\n",
    "plt.xlim(-5, 5)\n",
    "plt.ylim(-5, 5)\n",
    "\n",
    "c1 = plt.Circle((x1[0], y1[0]), R1, fc='none', ec='red', lw=1)\n",
    "ax.add_patch(c1)\n",
    "c2 = plt.Circle((x2[0], y2[0]), R2, fc='none', ec='green', lw=1)\n",
    "ax.add_patch(c2)\n",
    "\n",
    "ts = f't = {t0[0]:.2f} s'\n",
    "tx = ax.text(-3.5, -3.5, ts)\n",
    "\n",
    "plt.show()\n",
    "\n",
    "def update(i):\n",
    "    c1.center = x1[i], y1[i]\n",
    "    c2.center = x2[i], y2[i]\n",
    "    ts = f't = {t0[i]:.2f} s'\n",
    "    tx.set_text(ts)\n",
    "    return _\n",
    "\n",
    "ani = animation.FuncAnimation(fig=fig, func=update, frames=200)\n",
    "ani.save(filename=\"test3a.mp4\", writer=\"ffmpeg\", fps=25)"
   ]
  },
  {
   "cell_type": "markdown",
   "id": "5cbd0c2b-3bac-444a-9eb6-b36998f1e2ba",
   "metadata": {},
   "source": [
    "<video src=\"test3a.mp4\" controls></video>"
   ]
  },
  {
   "cell_type": "code",
   "execution_count": null,
   "id": "7def559b-7001-4bc6-b12c-2a9bb7a9ba54",
   "metadata": {},
   "outputs": [],
   "source": []
  },
  {
   "cell_type": "code",
   "execution_count": null,
   "id": "523c61a3-9f49-4653-8166-f4e702f9df70",
   "metadata": {},
   "outputs": [],
   "source": []
  }
 ],
 "metadata": {
  "kernelspec": {
   "display_name": "Python 3 (ipykernel)",
   "language": "python",
   "name": "python3"
  },
  "language_info": {
   "codemirror_mode": {
    "name": "ipython",
    "version": 3
   },
   "file_extension": ".py",
   "mimetype": "text/x-python",
   "name": "python",
   "nbconvert_exporter": "python",
   "pygments_lexer": "ipython3",
   "version": "3.12.3"
  }
 },
 "nbformat": 4,
 "nbformat_minor": 5
}
