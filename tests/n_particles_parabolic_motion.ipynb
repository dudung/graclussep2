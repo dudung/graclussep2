{
 "cells": [
  {
   "cell_type": "code",
   "execution_count": null,
   "id": "8de73b10-7e7f-4a1b-8255-909f821929cc",
   "metadata": {},
   "outputs": [],
   "source": [
    "import numpy as np\n",
    "import matplotlib.pyplot as plt"
   ]
  },
  {
   "cell_type": "code",
   "execution_count": null,
   "id": "d61c2a61-6c3d-4b65-888d-82521aa15a94",
   "metadata": {},
   "outputs": [],
   "source": [
    "npar = 10\n",
    "pos = np.round(100 * np.random.rand(npar, 2), 0)\n",
    "vel = np.round(200 * np.random.rand(npar, 2), 0)\n",
    "mass = np.array([1] * 10)\n",
    "gacc = np.zeros((npar, 2))\n",
    "gacc[:,1] = -10\n",
    "forces = mass[:, np.newaxis] * gacc\n",
    "\n",
    "tsimul = np.linspace(0, 10, 11)\n",
    "dt = tsimul[1] - tsimul[0]\n",
    "positions = [pos.copy()]\n",
    "for t in tsimul:\n",
    "    acc = forces / mass[:, np.newaxis]\n",
    "    vel = vel + acc * dt\n",
    "    pos = pos + vel * dt\n",
    "    \n",
    "    positions.append(pos.copy())\n",
    "\n",
    "positions = np.array(positions)"
   ]
  },
  {
   "cell_type": "code",
   "execution_count": null,
   "id": "a3cbe64a-18a0-4537-8ce1-bcacbe08aa30",
   "metadata": {},
   "outputs": [],
   "source": [
    "plt.figure(figsize=(10, 6))\n",
    "for i in range(npar):\n",
    "    plt.plot(positions[:, i, 0], positions[:, i, 1], label=f'Particle {i+1}')\n",
    "\n",
    "plt.xlabel('X Position')\n",
    "plt.ylabel('Y Position')\n",
    "plt.title('Particle Trajectories')\n",
    "plt.legend()\n",
    "plt.grid(True)\n",
    "plt.show()"
   ]
  },
  {
   "cell_type": "code",
   "execution_count": null,
   "id": "c54a365e-ebd7-4402-bb5e-917b1d959036",
   "metadata": {},
   "outputs": [],
   "source": []
  }
 ],
 "metadata": {
  "kernelspec": {
   "display_name": "Python 3 (ipykernel)",
   "language": "python",
   "name": "python3"
  },
  "language_info": {
   "codemirror_mode": {
    "name": "ipython",
    "version": 3
   },
   "file_extension": ".py",
   "mimetype": "text/x-python",
   "name": "python",
   "nbconvert_exporter": "python",
   "pygments_lexer": "ipython3",
   "version": "3.12.3"
  }
 },
 "nbformat": 4,
 "nbformat_minor": 5
}
